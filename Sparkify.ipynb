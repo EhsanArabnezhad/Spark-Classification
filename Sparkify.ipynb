{
 "cells": [
  {
   "cell_type": "markdown",
   "metadata": {},
   "source": [
    "# Sparkify Project Workspace\n",
    "This workspace contains a tiny subset (128MB) of the full dataset available (12GB). Feel free to use this workspace to build your project, or to explore a smaller subset with Spark before deploying your cluster on the cloud. Instructions for setting up your Spark cluster is included in the last lesson of the Extracurricular Spark Course content.\n",
    "\n",
    "You can follow the steps below to guide your data analysis and model building portion of this project."
   ]
  },
  {
   "cell_type": "code",
   "execution_count": 1,
   "metadata": {},
   "outputs": [],
   "source": [
    "# import libraries\n",
    "from pyspark.sql import functions as F\n",
    "from pyspark.sql.functions import udf\n",
    "from pyspark.sql.types import IntegerType\n",
    "from pyspark.sql.window import Window\n",
    "from pyspark.ml import Pipeline\n",
    "from pyspark.ml.classification import LogisticRegression, RandomForestClassifier\n",
    "from pyspark.ml.evaluation import MulticlassClassificationEvaluator\n",
    "from pyspark.ml.tuning import CrossValidator, ParamGridBuilder\n",
    "from pyspark.sql import SparkSession\n",
    "from pyspark.sql.functions import udf, lit, isnan, when, count, col\n",
    "from pyspark.ml.feature import StandardScaler, VectorAssembler\n",
    "from pyspark.ml.feature import StringIndexer\n",
    "import datetime\n",
    "\n",
    "import pandas as pd\n",
    "import seaborn as sns\n",
    "import matplotlib.pyplot as plt\n",
    "\n",
    "%matplotlib inline\n",
    "sns.set_style(\"darkgrid\")"
   ]
  },
  {
   "cell_type": "markdown",
   "metadata": {},
   "source": [
    "# Load and Clean Dataset\n",
    "In this workspace, the mini-dataset file is `mini_sparkify_event_data.json`. Load and clean the dataset, checking for invalid or missing data - for example, records without userids or sessionids. "
   ]
  },
  {
   "cell_type": "code",
   "execution_count": 2,
   "metadata": {},
   "outputs": [],
   "source": [
    "spark = SparkSession \\\n",
    "    .builder \\\n",
    "    .appName('Sparkify') \\\n",
    "    .getOrCreate()"
   ]
  },
  {
   "cell_type": "code",
   "execution_count": 3,
   "metadata": {},
   "outputs": [
    {
     "data": {
      "text/plain": [
       "[Row(artist='Martha Tilston', auth='Logged In', firstName='Colin', gender='M', itemInSession=50, lastName='Freeman', length=277.89016, level='paid', location='Bakersfield, CA', method='PUT', page='NextSong', registration=1538173362000, sessionId=29, song='Rockpools', status=200, ts=1538352117000, userAgent='Mozilla/5.0 (Windows NT 6.1; WOW64; rv:31.0) Gecko/20100101 Firefox/31.0', userId='30'),\n",
       " Row(artist='Five Iron Frenzy', auth='Logged In', firstName='Micah', gender='M', itemInSession=79, lastName='Long', length=236.09424, level='free', location='Boston-Cambridge-Newton, MA-NH', method='PUT', page='NextSong', registration=1538331630000, sessionId=8, song='Canada', status=200, ts=1538352180000, userAgent='\"Mozilla/5.0 (Windows NT 6.1; WOW64) AppleWebKit/537.36 (KHTML, like Gecko) Chrome/37.0.2062.103 Safari/537.36\"', userId='9'),\n",
       " Row(artist='Adam Lambert', auth='Logged In', firstName='Colin', gender='M', itemInSession=51, lastName='Freeman', length=282.8273, level='paid', location='Bakersfield, CA', method='PUT', page='NextSong', registration=1538173362000, sessionId=29, song='Time For Miracles', status=200, ts=1538352394000, userAgent='Mozilla/5.0 (Windows NT 6.1; WOW64; rv:31.0) Gecko/20100101 Firefox/31.0', userId='30'),\n",
       " Row(artist='Enigma', auth='Logged In', firstName='Micah', gender='M', itemInSession=80, lastName='Long', length=262.71302, level='free', location='Boston-Cambridge-Newton, MA-NH', method='PUT', page='NextSong', registration=1538331630000, sessionId=8, song='Knocking On Forbidden Doors', status=200, ts=1538352416000, userAgent='\"Mozilla/5.0 (Windows NT 6.1; WOW64) AppleWebKit/537.36 (KHTML, like Gecko) Chrome/37.0.2062.103 Safari/537.36\"', userId='9'),\n",
       " Row(artist='Daft Punk', auth='Logged In', firstName='Colin', gender='M', itemInSession=52, lastName='Freeman', length=223.60771, level='paid', location='Bakersfield, CA', method='PUT', page='NextSong', registration=1538173362000, sessionId=29, song='Harder Better Faster Stronger', status=200, ts=1538352676000, userAgent='Mozilla/5.0 (Windows NT 6.1; WOW64; rv:31.0) Gecko/20100101 Firefox/31.0', userId='30')]"
      ]
     },
     "execution_count": 3,
     "metadata": {},
     "output_type": "execute_result"
    }
   ],
   "source": [
    "# Read in sparkify dataset\n",
    "\n",
    "#EVENT_DATA = 's3n://udacity-dsnd/sparkify/sparkify_event_data.json'\n",
    "EVENT_DATA = 'mini_sparkify_event_data.json'\n",
    "\n",
    "df = spark.read.json(EVENT_DATA)\n",
    "df.head(5)"
   ]
  },
  {
   "cell_type": "code",
   "execution_count": 4,
   "metadata": {},
   "outputs": [
    {
     "name": "stdout",
     "output_type": "stream",
     "text": [
      "root\n",
      " |-- artist: string (nullable = true)\n",
      " |-- auth: string (nullable = true)\n",
      " |-- firstName: string (nullable = true)\n",
      " |-- gender: string (nullable = true)\n",
      " |-- itemInSession: long (nullable = true)\n",
      " |-- lastName: string (nullable = true)\n",
      " |-- length: double (nullable = true)\n",
      " |-- level: string (nullable = true)\n",
      " |-- location: string (nullable = true)\n",
      " |-- method: string (nullable = true)\n",
      " |-- page: string (nullable = true)\n",
      " |-- registration: long (nullable = true)\n",
      " |-- sessionId: long (nullable = true)\n",
      " |-- song: string (nullable = true)\n",
      " |-- status: long (nullable = true)\n",
      " |-- ts: long (nullable = true)\n",
      " |-- userAgent: string (nullable = true)\n",
      " |-- userId: string (nullable = true)\n",
      "\n"
     ]
    }
   ],
   "source": [
    "df.printSchema()"
   ]
  },
  {
   "cell_type": "code",
   "execution_count": 5,
   "metadata": {},
   "outputs": [
    {
     "data": {
      "text/html": [
       "<div>\n",
       "<style scoped>\n",
       "    .dataframe tbody tr th:only-of-type {\n",
       "        vertical-align: middle;\n",
       "    }\n",
       "\n",
       "    .dataframe tbody tr th {\n",
       "        vertical-align: top;\n",
       "    }\n",
       "\n",
       "    .dataframe thead th {\n",
       "        text-align: right;\n",
       "    }\n",
       "</style>\n",
       "<table border=\"1\" class=\"dataframe\">\n",
       "  <thead>\n",
       "    <tr style=\"text-align: right;\">\n",
       "      <th></th>\n",
       "      <th>summary</th>\n",
       "      <th>artist</th>\n",
       "      <th>auth</th>\n",
       "      <th>firstName</th>\n",
       "      <th>gender</th>\n",
       "      <th>itemInSession</th>\n",
       "      <th>lastName</th>\n",
       "      <th>length</th>\n",
       "      <th>level</th>\n",
       "      <th>location</th>\n",
       "      <th>method</th>\n",
       "      <th>page</th>\n",
       "      <th>registration</th>\n",
       "      <th>sessionId</th>\n",
       "      <th>song</th>\n",
       "      <th>status</th>\n",
       "      <th>ts</th>\n",
       "      <th>userAgent</th>\n",
       "      <th>userId</th>\n",
       "    </tr>\n",
       "  </thead>\n",
       "  <tbody>\n",
       "    <tr>\n",
       "      <th>0</th>\n",
       "      <td>count</td>\n",
       "      <td>228108</td>\n",
       "      <td>286500</td>\n",
       "      <td>278154</td>\n",
       "      <td>278154</td>\n",
       "      <td>286500</td>\n",
       "      <td>278154</td>\n",
       "      <td>228108</td>\n",
       "      <td>286500</td>\n",
       "      <td>278154</td>\n",
       "      <td>286500</td>\n",
       "      <td>286500</td>\n",
       "      <td>278154</td>\n",
       "      <td>286500</td>\n",
       "      <td>228108</td>\n",
       "      <td>286500</td>\n",
       "      <td>286500</td>\n",
       "      <td>278154</td>\n",
       "      <td>286500</td>\n",
       "    </tr>\n",
       "    <tr>\n",
       "      <th>1</th>\n",
       "      <td>mean</td>\n",
       "      <td>551.0852017937219</td>\n",
       "      <td>None</td>\n",
       "      <td>None</td>\n",
       "      <td>None</td>\n",
       "      <td>114.41421291448516</td>\n",
       "      <td>None</td>\n",
       "      <td>249.1171819778458</td>\n",
       "      <td>None</td>\n",
       "      <td>None</td>\n",
       "      <td>None</td>\n",
       "      <td>None</td>\n",
       "      <td>1.5353588340844272E12</td>\n",
       "      <td>1041.526554973822</td>\n",
       "      <td>Infinity</td>\n",
       "      <td>210.05459685863875</td>\n",
       "      <td>1.5409568898104834E12</td>\n",
       "      <td>None</td>\n",
       "      <td>59682.02278593872</td>\n",
       "    </tr>\n",
       "    <tr>\n",
       "      <th>2</th>\n",
       "      <td>stddev</td>\n",
       "      <td>1217.7693079161374</td>\n",
       "      <td>None</td>\n",
       "      <td>None</td>\n",
       "      <td>None</td>\n",
       "      <td>129.76726201140994</td>\n",
       "      <td>None</td>\n",
       "      <td>99.23517921058361</td>\n",
       "      <td>None</td>\n",
       "      <td>None</td>\n",
       "      <td>None</td>\n",
       "      <td>None</td>\n",
       "      <td>3.291321616327586E9</td>\n",
       "      <td>726.7762634630741</td>\n",
       "      <td>NaN</td>\n",
       "      <td>31.50507848842214</td>\n",
       "      <td>1.5075439608226302E9</td>\n",
       "      <td>None</td>\n",
       "      <td>109091.9499991047</td>\n",
       "    </tr>\n",
       "    <tr>\n",
       "      <th>3</th>\n",
       "      <td>min</td>\n",
       "      <td>!!!</td>\n",
       "      <td>Cancelled</td>\n",
       "      <td>Adelaida</td>\n",
       "      <td>F</td>\n",
       "      <td>0</td>\n",
       "      <td>Adams</td>\n",
       "      <td>0.78322</td>\n",
       "      <td>free</td>\n",
       "      <td>Albany, OR</td>\n",
       "      <td>GET</td>\n",
       "      <td>About</td>\n",
       "      <td>1521380675000</td>\n",
       "      <td>1</td>\n",
       "      <td>ÃÂg ÃÂtti GrÃÂ¡a ÃÂsku</td>\n",
       "      <td>200</td>\n",
       "      <td>1538352117000</td>\n",
       "      <td>\"Mozilla/5.0 (Macintosh; Intel Mac OS X 10_10)...</td>\n",
       "      <td></td>\n",
       "    </tr>\n",
       "    <tr>\n",
       "      <th>4</th>\n",
       "      <td>max</td>\n",
       "      <td>ÃÂlafur Arnalds</td>\n",
       "      <td>Logged Out</td>\n",
       "      <td>Zyonna</td>\n",
       "      <td>M</td>\n",
       "      <td>1321</td>\n",
       "      <td>Wright</td>\n",
       "      <td>3024.66567</td>\n",
       "      <td>paid</td>\n",
       "      <td>Winston-Salem, NC</td>\n",
       "      <td>PUT</td>\n",
       "      <td>Upgrade</td>\n",
       "      <td>1543247354000</td>\n",
       "      <td>2474</td>\n",
       "      <td>ÃÂau hafa sloppiÃÂ° undan ÃÂ¾unga myrkursins</td>\n",
       "      <td>404</td>\n",
       "      <td>1543799476000</td>\n",
       "      <td>Mozilla/5.0 (compatible; MSIE 9.0; Windows NT ...</td>\n",
       "      <td>99</td>\n",
       "    </tr>\n",
       "  </tbody>\n",
       "</table>\n",
       "</div>"
      ],
      "text/plain": [
       "  summary              artist        auth firstName  gender  \\\n",
       "0   count              228108      286500    278154  278154   \n",
       "1    mean   551.0852017937219        None      None    None   \n",
       "2  stddev  1217.7693079161374        None      None    None   \n",
       "3     min                 !!!   Cancelled  Adelaida       F   \n",
       "4     max   ÃÂlafur Arnalds  Logged Out    Zyonna       M   \n",
       "\n",
       "        itemInSession lastName             length   level           location  \\\n",
       "0              286500   278154             228108  286500             278154   \n",
       "1  114.41421291448516     None  249.1171819778458    None               None   \n",
       "2  129.76726201140994     None  99.23517921058361    None               None   \n",
       "3                   0    Adams            0.78322    free         Albany, OR   \n",
       "4                1321   Wright         3024.66567    paid  Winston-Salem, NC   \n",
       "\n",
       "   method     page           registration          sessionId  \\\n",
       "0  286500   286500                 278154             286500   \n",
       "1    None     None  1.5353588340844272E12  1041.526554973822   \n",
       "2    None     None    3.291321616327586E9  726.7762634630741   \n",
       "3     GET    About          1521380675000                  1   \n",
       "4     PUT  Upgrade          1543247354000               2474   \n",
       "\n",
       "                                               song              status  \\\n",
       "0                                            228108              286500   \n",
       "1                                          Infinity  210.05459685863875   \n",
       "2                                               NaN   31.50507848842214   \n",
       "3                    \n",
       "ÃÂg ÃÂtti GrÃÂ¡a ÃÂsku                 200   \n",
       "4  ÃÂau hafa sloppiÃÂ° undan ÃÂ¾unga myrkursins                 404   \n",
       "\n",
       "                      ts                                          userAgent  \\\n",
       "0                 286500                                             278154   \n",
       "1  1.5409568898104834E12                                               None   \n",
       "2   1.5075439608226302E9                                               None   \n",
       "3          1538352117000  \"Mozilla/5.0 (Macintosh; Intel Mac OS X 10_10)...   \n",
       "4          1543799476000  Mozilla/5.0 (compatible; MSIE 9.0; Windows NT ...   \n",
       "\n",
       "              userId  \n",
       "0             286500  \n",
       "1  59682.02278593872  \n",
       "2  109091.9499991047  \n",
       "3                     \n",
       "4                 99  "
      ]
     },
     "execution_count": 5,
     "metadata": {},
     "output_type": "execute_result"
    }
   ],
   "source": [
    "# df.describe().toPandas()"
   ]
  },
  {
   "cell_type": "markdown",
   "metadata": {},
   "source": [
    "# Exploratory Data Analysis\n",
    "When you're working with the full dataset, perform EDA by loading a small subset of the data and doing basic manipulations within Spark. In this workspace, you are already provided a small subset of data you can explore.\n",
    "\n",
    "### Define Churn\n",
    "\n",
    "Once you've done some preliminary analysis, create a column `Churn` to use as the label for your model. I suggest using the `Cancellation Confirmation` events to define your churn, which happen for both paid and free users. As a bonus task, you can also look into the `Downgrade` events.\n",
    "\n",
    "### Explore Data\n",
    "Once you've defined churn, perform some exploratory data analysis to observe the behavior for users who stayed vs users who churned. You can start by exploring aggregates on these two groups of users, observing how much of a specific action they experienced per a certain time unit or number of songs played."
   ]
  },
  {
   "cell_type": "code",
   "execution_count": 6,
   "metadata": {},
   "outputs": [
    {
     "data": {
      "text/plain": [
       "8346"
      ]
     },
     "execution_count": 6,
     "metadata": {},
     "output_type": "execute_result"
    }
   ],
   "source": [
    "df.filter((df[\"userId\"] == \"\") | df[\"userId\"].isNull() | isnan(df[\"userId\"])).count()"
   ]
  },
  {
   "cell_type": "code",
   "execution_count": 7,
   "metadata": {},
   "outputs": [
    {
     "name": "stdout",
     "output_type": "stream",
     "text": [
      "+------+----+---------+------+-------------+--------+------+-----+--------+------+----+------------+---------+-----+------+---+---------+------+\n",
      "|artist|auth|firstName|gender|itemInSession|lastName|length|level|location|method|page|registration|sessionId| song|status| ts|userAgent|userId|\n",
      "+------+----+---------+------+-------------+--------+------+-----+--------+------+----+------------+---------+-----+------+---+---------+------+\n",
      "| 58392|   0|     8346|  8346|            0|    8346| 58392|    0|    8346|     0|   0|        8346|        0|58392|     0|  0|     8346|     0|\n",
      "+------+----+---------+------+-------------+--------+------+-----+--------+------+----+------------+---------+-----+------+---+---------+------+\n",
      "\n"
     ]
    }
   ],
   "source": [
    "df.select([count(when(df[c].isNull(), c)).alias(c) for c in df.columns]).show()"
   ]
  },
  {
   "cell_type": "code",
   "execution_count": 8,
   "metadata": {},
   "outputs": [
    {
     "name": "stdout",
     "output_type": "stream",
     "text": [
      "+------+----+---------+------+-------------+--------+------+-----+--------+------+----+------------+---------+----+------+---+---------+------+\n",
      "|artist|auth|firstName|gender|itemInSession|lastName|length|level|location|method|page|registration|sessionId|song|status| ts|userAgent|userId|\n",
      "+------+----+---------+------+-------------+--------+------+-----+--------+------+----+------------+---------+----+------+---+---------+------+\n",
      "|     0|   0|        0|     0|            0|       0|     0|    0|       0|     0|   0|           0|        0|   0|     0|  0|        0|     0|\n",
      "+------+----+---------+------+-------------+--------+------+-----+--------+------+----+------------+---------+----+------+---+---------+------+\n",
      "\n"
     ]
    }
   ],
   "source": [
    "df.select([count(when(isnan(df[c]), c)).alias(c) for c in df.columns]).show()"
   ]
  },
  {
   "cell_type": "code",
   "execution_count": 9,
   "metadata": {},
   "outputs": [
    {
     "name": "stdout",
     "output_type": "stream",
     "text": [
      "+------+----+---------+------+-------------+--------+------+-----+--------+------+----+------------+---------+----+------+---+---------+------+\n",
      "|artist|auth|firstName|gender|itemInSession|lastName|length|level|location|method|page|registration|sessionId|song|status| ts|userAgent|userId|\n",
      "+------+----+---------+------+-------------+--------+------+-----+--------+------+----+------------+---------+----+------+---+---------+------+\n",
      "|     0|   0|        0|     0|            0|       0|     0|    0|       0|     0|   0|           0|        0|   0|     0|  0|        0|  8346|\n",
      "+------+----+---------+------+-------------+--------+------+-----+--------+------+----+------------+---------+----+------+---+---------+------+\n",
      "\n"
     ]
    }
   ],
   "source": [
    "df.select([count(when(df[c] == \"\", c)).alias(c) for c in df.columns]).show()"
   ]
  },
  {
   "cell_type": "code",
   "execution_count": 10,
   "metadata": {},
   "outputs": [],
   "source": [
    "df.createOrReplaceTempView('user_log')\n",
    "clean_user_log = spark.sql('''\n",
    "    SELECT *\n",
    "    FROM user_log\n",
    "    WHERE userId != ''\n",
    "    '''\n",
    "    )\n",
    "\n",
    "clean_user_log.createOrReplaceTempView('clean_user_log')"
   ]
  },
  {
   "cell_type": "code",
   "execution_count": 11,
   "metadata": {},
   "outputs": [
    {
     "data": {
      "text/plain": [
       "Row(artist='Martha Tilston', auth='Logged In', firstName='Colin', gender='M', itemInSession=50, lastName='Freeman', length=277.89016, level='paid', location='Bakersfield, CA', method='PUT', page='NextSong', registration=1538173362000, sessionId=29, song='Rockpools', status=200, ts=1538352117000, userAgent='Mozilla/5.0 (Windows NT 6.1; WOW64; rv:31.0) Gecko/20100101 Firefox/31.0', userId='30')"
      ]
     },
     "execution_count": 11,
     "metadata": {},
     "output_type": "execute_result"
    }
   ],
   "source": [
    "clean_user_log.head()"
   ]
  },
  {
   "cell_type": "code",
   "execution_count": 12,
   "metadata": {},
   "outputs": [
    {
     "name": "stdout",
     "output_type": "stream",
     "text": [
      "+---------+\n",
      "|     auth|\n",
      "+---------+\n",
      "|Cancelled|\n",
      "|Logged In|\n",
      "+---------+\n",
      "\n"
     ]
    }
   ],
   "source": [
    "spark.sql('''\n",
    "    SELECT DISTINCT auth\n",
    "    FROM clean_user_log\n",
    "    '''\n",
    "    ).show()"
   ]
  },
  {
   "cell_type": "code",
   "execution_count": 13,
   "metadata": {},
   "outputs": [
    {
     "name": "stdout",
     "output_type": "stream",
     "text": [
      "+---------+-------------+\n",
      "|     auth|count(userId)|\n",
      "+---------+-------------+\n",
      "|Cancelled|           52|\n",
      "|Logged In|          225|\n",
      "+---------+-------------+\n",
      "\n"
     ]
    }
   ],
   "source": [
    "clean_user_log.groupby(['auth']).agg(F.expr('count(distinct userId)')).show()"
   ]
  },
  {
   "cell_type": "code",
   "execution_count": 14,
   "metadata": {},
   "outputs": [
    {
     "name": "stdout",
     "output_type": "stream",
     "text": [
      "+------+-------------+\n",
      "|gender|count(userId)|\n",
      "+------+-------------+\n",
      "|     F|          104|\n",
      "|     M|          121|\n",
      "+------+-------------+\n",
      "\n"
     ]
    }
   ],
   "source": [
    "clean_user_log.groupby(['gender']).agg(F.expr('count(distinct userId)')).show()"
   ]
  },
  {
   "cell_type": "code",
   "execution_count": 15,
   "metadata": {},
   "outputs": [
    {
     "name": "stdout",
     "output_type": "stream",
     "text": [
      "+--------------------+-----+-------------+\n",
      "|                page|level|count(userId)|\n",
      "+--------------------+-----+-------------+\n",
      "|              Cancel| free|           21|\n",
      "|Cancellation Conf...| free|           21|\n",
      "|              Cancel| paid|           31|\n",
      "|Cancellation Conf...| paid|           31|\n",
      "|               Error| free|           41|\n",
      "|    Submit Downgrade| paid|           49|\n",
      "|       Save Settings| free|           59|\n",
      "|               About| free|           63|\n",
      "|               Error| paid|           95|\n",
      "|       Save Settings| paid|           96|\n",
      "|         Roll Advert| paid|           99|\n",
      "|            Settings| free|          119|\n",
      "|                Help| free|          125|\n",
      "|               About| paid|          127|\n",
      "|      Submit Upgrade| free|          131|\n",
      "|         Thumbs Down| free|          135|\n",
      "|            Settings| paid|          148|\n",
      "|          Add Friend| free|          148|\n",
      "|                Help| paid|          149|\n",
      "|           Downgrade| paid|          154|\n",
      "|          Add Friend| paid|          155|\n",
      "|         Thumbs Down| paid|          157|\n",
      "|              Logout| paid|          160|\n",
      "|              Logout| free|          162|\n",
      "|           Thumbs Up| paid|          163|\n",
      "|     Add to Playlist| paid|          163|\n",
      "|            NextSong| paid|          164|\n",
      "|                Home| paid|          165|\n",
      "|     Add to Playlist| free|          168|\n",
      "|             Upgrade| free|          168|\n",
      "|           Thumbs Up| free|          179|\n",
      "|         Roll Advert| free|          185|\n",
      "|                Home| free|          188|\n",
      "|            NextSong| free|          195|\n",
      "+--------------------+-----+-------------+\n",
      "\n"
     ]
    }
   ],
   "source": [
    "clean_user_log.groupby(['page', 'level']).agg(F.expr('count(distinct userId)')).sort('count(userId)').show(50)"
   ]
  },
  {
   "cell_type": "code",
   "execution_count": 16,
   "metadata": {},
   "outputs": [
    {
     "name": "stdout",
     "output_type": "stream",
     "text": [
      "+-----+-------------+\n",
      "|level|count(userId)|\n",
      "+-----+-------------+\n",
      "| free|          195|\n",
      "| paid|          165|\n",
      "+-----+-------------+\n",
      "\n"
     ]
    }
   ],
   "source": [
    "clean_user_log.groupby(['level']).agg(F.expr('count(distinct userId)')).show()"
   ]
  },
  {
   "cell_type": "code",
   "execution_count": 17,
   "metadata": {},
   "outputs": [
    {
     "name": "stdout",
     "output_type": "stream",
     "text": [
      "+------+-------------+\n",
      "|status|count(userId)|\n",
      "+------+-------------+\n",
      "|   307|          223|\n",
      "|   404|          117|\n",
      "|   200|          225|\n",
      "+------+-------------+\n",
      "\n"
     ]
    }
   ],
   "source": [
    "clean_user_log.groupby(['status']).agg(F.expr('count(distinct userId)')).show()"
   ]
  },
  {
   "cell_type": "code",
   "execution_count": 18,
   "metadata": {},
   "outputs": [
    {
     "name": "stdout",
     "output_type": "stream",
     "text": [
      "+--------------------------------------------------------------------------------------------------------------------------+----------------+\n",
      "|userAgent                                                                                                                 |count(sessionId)|\n",
      "+--------------------------------------------------------------------------------------------------------------------------+----------------+\n",
      "|\"Mozilla/5.0 (Macintosh; Intel Mac OS X 10_9_2) AppleWebKit/537.75.14 (KHTML, like Gecko) Version/7.0.3 Safari/537.75.14\" |3               |\n",
      "|\"Mozilla/5.0 (Macintosh; Intel Mac OS X 10_8_5) AppleWebKit/537.36 (KHTML, like Gecko) Chrome/36.0.1985.143 Safari/537.36\"|4               |\n",
      "|Mozilla/5.0 (X11; Ubuntu; Linux i686; rv:31.0) Gecko/20100101 Firefox/31.0                                                |4               |\n",
      "|\"Mozilla/5.0 (Macintosh; Intel Mac OS X 10_6_8) AppleWebKit/537.36 (KHTML, like Gecko) Chrome/36.0.1985.143 Safari/537.36\"|4               |\n",
      "|\"Mozilla/5.0 (Macintosh; Intel Mac OS X 10_8_5) AppleWebKit/537.36 (KHTML, like Gecko) Chrome/37.0.2062.94 Safari/537.36\" |5               |\n",
      "+--------------------------------------------------------------------------------------------------------------------------+----------------+\n",
      "only showing top 5 rows\n",
      "\n"
     ]
    }
   ],
   "source": [
    "clean_user_log.groupby(['userAgent']).agg(F.expr('count(distinct sessionId)')).sort(('count(sessionId)')).show(5, False)"
   ]
  },
  {
   "cell_type": "code",
   "execution_count": 19,
   "metadata": {},
   "outputs": [
    {
     "name": "stdout",
     "output_type": "stream",
     "text": [
      "(286500, 18)\n"
     ]
    }
   ],
   "source": [
    "print((df.count(), len(df.columns)))"
   ]
  },
  {
   "cell_type": "code",
   "execution_count": 20,
   "metadata": {},
   "outputs": [],
   "source": [
    "get_time = udf(lambda x: datetime.datetime.fromtimestamp(x / 1000.0).strftime(\"%Y-%m-%d %H:%M:%S\"))\n",
    "\n",
    "#Apply the udf on the ts column\n",
    "clean_user_log = clean_user_log.withColumn(\"time\", get_time(clean_user_log.ts))"
   ]
  },
  {
   "cell_type": "code",
   "execution_count": 21,
   "metadata": {},
   "outputs": [],
   "source": [
    "clean_user_log = clean_user_log.withColumn(\"registration_date\", get_time(clean_user_log[\"registration\"]))"
   ]
  },
  {
   "cell_type": "code",
   "execution_count": 22,
   "metadata": {},
   "outputs": [
    {
     "data": {
      "text/plain": [
       "DataFrame[summary: string, artist: string, auth: string, firstName: string, gender: string, itemInSession: string, lastName: string, length: string, level: string, location: string, method: string, page: string, registration: string, sessionId: string, song: string, status: string, ts: string, userAgent: string, userId: string, time: string, registration_date: string]"
      ]
     },
     "execution_count": 22,
     "metadata": {},
     "output_type": "execute_result"
    }
   ],
   "source": [
    "clean_user_log.describe()"
   ]
  },
  {
   "cell_type": "code",
   "execution_count": 23,
   "metadata": {},
   "outputs": [],
   "source": [
    "max_time_stamp = clean_user_log.agg(F.max(col(\"time\")))"
   ]
  },
  {
   "cell_type": "code",
   "execution_count": 24,
   "metadata": {},
   "outputs": [],
   "source": [
    "max_time_stamp = max_time_stamp.collect()[0][0]"
   ]
  },
  {
   "cell_type": "code",
   "execution_count": 25,
   "metadata": {},
   "outputs": [
    {
     "data": {
      "text/plain": [
       "'2018-12-03 01:11:16'"
      ]
     },
     "execution_count": 25,
     "metadata": {},
     "output_type": "execute_result"
    }
   ],
   "source": [
    "max_time_stamp"
   ]
  },
  {
   "cell_type": "code",
   "execution_count": 26,
   "metadata": {},
   "outputs": [],
   "source": [
    "clean_user_log.createOrReplaceTempView(\"user_log_table\")"
   ]
  },
  {
   "cell_type": "code",
   "execution_count": 27,
   "metadata": {},
   "outputs": [],
   "source": [
    "how_long_a_user = spark.sql('''SELECT userId,\n",
    "                                      datediff('2018-12-01 00:01:06' , registration_date) as how_long_a_user\n",
    "                               FROM(SELECT userId,\n",
    "                                           MIN(registration_date) as registration_date\n",
    "                                    FROM user_log_table\n",
    "                                    GROUP BY 1)\n",
    "                            ''')"
   ]
  },
  {
   "cell_type": "code",
   "execution_count": 28,
   "metadata": {},
   "outputs": [
    {
     "data": {
      "image/png": "[encoded data removed]",
      "text/plain": [
       "<matplotlib.figure.Figure at 0x7f0a89564438>"
      ]
     },
     "metadata": {
      "needs_background": "light"
     },
     "output_type": "display_data"
    }
   ],
   "source": [
    "plt.hist(how_long_a_user.toPandas()['how_long_a_user']);"
   ]
  },
  {
   "cell_type": "markdown",
   "metadata": {},
   "source": [
    "# Feature Engineering\n",
    "Once you've familiarized yourself with the data, build out the features you find promising to train your model on. To work with the full dataset, you can follow the following steps.\n",
    "- Write a script to extract the necessary features from the smaller subset of data\n",
    "- Ensure that your script is scalable, using the best practices discussed in Lesson 3\n",
    "- Try your script on the full data set, debugging your script if necessary\n",
    "\n",
    "If you are working in the classroom workspace, you can just extract features based on the small subset of data contained here. Be sure to transfer over this work to the larger dataset when you work on your Spark cluster."
   ]
  },
  {
   "cell_type": "code",
   "execution_count": 29,
   "metadata": {},
   "outputs": [],
   "source": [
    "free_or_paid = udf(lambda x : 1 if x == 'paid' else 0, IntegerType())\n",
    "was_paid = udf(lambda x : 1 if x > 0 else 0, IntegerType())"
   ]
  },
  {
   "cell_type": "code",
   "execution_count": 30,
   "metadata": {},
   "outputs": [],
   "source": [
    "paid_users = clean_user_log.select('userID', 'level') \\\n",
    "                     .withColumn('free_or_paid', free_or_paid(col('level'))) \\\n",
    "                     .groupby('userID').agg(F.sum('free_or_paid')) \\\n",
    "                     .withColumn('was_paid_user', was_paid(col('sum(free_or_paid)'))).select(['userID','was_paid_user'])"
   ]
  },
  {
   "cell_type": "code",
   "execution_count": 31,
   "metadata": {},
   "outputs": [
    {
     "name": "stdout",
     "output_type": "stream",
     "text": [
      "+------+-------------+\n",
      "|userID|was_paid_user|\n",
      "+------+-------------+\n",
      "|100010|            0|\n",
      "|200002|            1|\n",
      "|   125|            0|\n",
      "|    51|            1|\n",
      "|   124|            1|\n",
      "+------+-------------+\n",
      "only showing top 5 rows\n",
      "\n"
     ]
    }
   ],
   "source": [
    "paid_users.show(5)"
   ]
  },
  {
   "cell_type": "markdown",
   "metadata": {},
   "source": [
    "#### Change Gender to Dummy"
   ]
  },
  {
   "cell_type": "code",
   "execution_count": 32,
   "metadata": {},
   "outputs": [],
   "source": [
    "user_gender = spark.sql('''SELECT userId, CASE WHEN gender = 'F' THEN 1 ELSE 0 END as gender_dummy\n",
    "                           FROM(SELECT distinct userId, gender\n",
    "                                FROM user_log_table)\n",
    "                        ''')"
   ]
  },
  {
   "cell_type": "code",
   "execution_count": 33,
   "metadata": {},
   "outputs": [
    {
     "name": "stdout",
     "output_type": "stream",
     "text": [
      "+-------+------------------+-------------------+\n",
      "|summary|            userId|       gender_dummy|\n",
      "+-------+------------------+-------------------+\n",
      "|  count|               225|                225|\n",
      "|   mean|65391.013333333336| 0.4622222222222222|\n",
      "| stddev|105396.47791907165|0.49968243883744773|\n",
      "|    min|                10|                  0|\n",
      "|    max|                99|                  1|\n",
      "+-------+------------------+-------------------+\n",
      "\n"
     ]
    }
   ],
   "source": [
    "user_gender.describe().show()"
   ]
  },
  {
   "cell_type": "markdown",
   "metadata": {},
   "source": [
    "### Overall Time a User Listened to a Song"
   ]
  },
  {
   "cell_type": "code",
   "execution_count": 34,
   "metadata": {},
   "outputs": [],
   "source": [
    "user_total_song_length = clean_user_log.groupby('userID').agg(F.sum(col('length')).alias('user_total_song_length'))"
   ]
  },
  {
   "cell_type": "code",
   "execution_count": 35,
   "metadata": {},
   "outputs": [
    {
     "name": "stdout",
     "output_type": "stream",
     "text": [
      "+------+----------------------+\n",
      "|userID|user_total_song_length|\n",
      "+------+----------------------+\n",
      "|100010|     66940.89735000003|\n",
      "|200002|     94008.87593999993|\n",
      "|   125|    2089.1131000000005|\n",
      "|    51|     523275.8428000004|\n",
      "|   124|    1012312.0927899999|\n",
      "+------+----------------------+\n",
      "only showing top 5 rows\n",
      "\n"
     ]
    }
   ],
   "source": [
    "user_total_song_length.show(5)"
   ]
  },
  {
   "cell_type": "markdown",
   "metadata": {},
   "source": [
    "### Average Number of Songs Listened Per Session by Each User"
   ]
  },
  {
   "cell_type": "code",
   "execution_count": 36,
   "metadata": {},
   "outputs": [],
   "source": [
    "avg_num_songs_per_session = clean_user_log.filter(clean_user_log['page']==\"NextSong\") \\\n",
    "                                    .groupby(['userId','sessionId']).count() \\\n",
    "                                    .groupby('userId').agg(F.avg('count') \\\n",
    "                                    .alias('avg_num_songs_per_session'))"
   ]
  },
  {
   "cell_type": "code",
   "execution_count": 37,
   "metadata": {},
   "outputs": [
    {
     "name": "stdout",
     "output_type": "stream",
     "text": [
      "+-------+------------------+-------------------------+\n",
      "|summary|            userId|avg_num_songs_per_session|\n",
      "+-------+------------------+-------------------------+\n",
      "|  count|               225|                      225|\n",
      "|   mean|65391.013333333336|        70.78971233958933|\n",
      "| stddev|105396.47791907164|         42.6153697543817|\n",
      "|    min|                10|                      3.0|\n",
      "|    max|                99|        286.6666666666667|\n",
      "+-------+------------------+-------------------------+\n",
      "\n"
     ]
    }
   ],
   "source": [
    "avg_num_songs_per_session.describe().show(5)"
   ]
  },
  {
   "cell_type": "markdown",
   "metadata": {},
   "source": [
    "### Churn Define"
   ]
  },
  {
   "cell_type": "code",
   "execution_count": 38,
   "metadata": {},
   "outputs": [],
   "source": [
    "churn_fcn = udf(lambda x: 1 if x=='Cancellation Confirmation' else 0)"
   ]
  },
  {
   "cell_type": "code",
   "execution_count": 39,
   "metadata": {},
   "outputs": [],
   "source": [
    "churned_users = clean_user_log.withColumn(\"churn\", churn_fcn(col(\"page\")))\\\n",
    "                        .groupby('userId')\\\n",
    "                        .agg(F.max('churn').alias('churned_user'))"
   ]
  },
  {
   "cell_type": "code",
   "execution_count": 40,
   "metadata": {},
   "outputs": [
    {
     "name": "stdout",
     "output_type": "stream",
     "text": [
      "+------+------------+\n",
      "|userId|churned_user|\n",
      "+------+------------+\n",
      "|100010|           0|\n",
      "|200002|           0|\n",
      "|   125|           1|\n",
      "|   124|           0|\n",
      "|    51|           1|\n",
      "+------+------------+\n",
      "only showing top 5 rows\n",
      "\n"
     ]
    }
   ],
   "source": [
    "churned_users.show(5)"
   ]
  },
  {
   "cell_type": "code",
   "execution_count": 41,
   "metadata": {},
   "outputs": [],
   "source": [
    "function = udf(lambda ishome : int(ishome == 'Home'), IntegerType())\n",
    "\n",
    "user_window = Window \\\n",
    "    .partitionBy('userID') \\\n",
    "    .orderBy(F.desc('ts')) \\\n",
    "    .rangeBetween(Window.unboundedPreceding, 0)\n",
    "\n",
    "cusum = clean_user_log.filter((clean_user_log.page == 'NextSong') | (clean_user_log.page == 'Home')) \\\n",
    "    .select('userID', 'page', 'ts') \\\n",
    "    .withColumn('homevisit', function(col('page'))) \\\n",
    "    .withColumn('period', F.sum('homevisit').over(user_window))\n",
    "\n",
    "\n",
    "num_songs_per_period = cusum.filter((cusum.page == 'NextSong')) \\\n",
    "                      .groupBy('userID', 'period') \\\n",
    "                      .agg({'period':'count'})\n",
    "\n",
    "avg_songs_btw_hp_per_user = num_songs_per_period.groupby('userID').agg(F.avg('count(period)').alias('avg_songs_btw_hp_per_user'))\n"
   ]
  },
  {
   "cell_type": "code",
   "execution_count": 42,
   "metadata": {},
   "outputs": [
    {
     "data": {
      "image/png": "[encoded data removed]",
      "text/plain": [
       "<matplotlib.figure.Figure at 0x7f0a89487048>"
      ]
     },
     "metadata": {
      "needs_background": "light"
     },
     "output_type": "display_data"
    }
   ],
   "source": [
    "plt.hist(avg_songs_btw_hp_per_user.toPandas()['avg_songs_btw_hp_per_user'],bins=20,color='darkmagenta');"
   ]
  },
  {
   "cell_type": "markdown",
   "metadata": {},
   "source": [
    "### Number of Different Artists Each User Listened To"
   ]
  },
  {
   "cell_type": "code",
   "execution_count": 43,
   "metadata": {},
   "outputs": [],
   "source": [
    "num_distinct_artists = clean_user_log.groupby('UserId').agg(F.countDistinct(\"artist\").alias('num_distinct_artists'))"
   ]
  },
  {
   "cell_type": "code",
   "execution_count": 44,
   "metadata": {},
   "outputs": [
    {
     "name": "stdout",
     "output_type": "stream",
     "text": [
      "+------+--------------------+\n",
      "|UserId|num_distinct_artists|\n",
      "+------+--------------------+\n",
      "|100010|                 252|\n",
      "|200002|                 339|\n",
      "|   125|                   8|\n",
      "|    51|                1385|\n",
      "|   124|                2232|\n",
      "+------+--------------------+\n",
      "only showing top 5 rows\n",
      "\n"
     ]
    }
   ],
   "source": [
    "num_distinct_artists.show(5)"
   ]
  },
  {
   "cell_type": "markdown",
   "metadata": {},
   "source": [
    "### Number of Songs Listened By Each User"
   ]
  },
  {
   "cell_type": "code",
   "execution_count": 45,
   "metadata": {},
   "outputs": [
    {
     "name": "stdout",
     "output_type": "stream",
     "text": [
      "+-------+------------------+------------------+\n",
      "|summary|            userId|num_songs_per_user|\n",
      "+-------+------------------+------------------+\n",
      "|  count|               225|               225|\n",
      "|   mean|65391.013333333336|1013.8133333333334|\n",
      "| stddev|105396.47791907164|1104.9607785540886|\n",
      "|    min|                10|                 3|\n",
      "|    max|                99|              8002|\n",
      "+-------+------------------+------------------+\n",
      "\n"
     ]
    }
   ],
   "source": [
    "num_songs_per_user = clean_user_log.groupby('userId').agg(F.count(\"song\").alias(\"num_songs_per_user\"))\n",
    "num_songs_per_user.describe().show()"
   ]
  },
  {
   "cell_type": "code",
   "execution_count": 46,
   "metadata": {},
   "outputs": [
    {
     "name": "stdout",
     "output_type": "stream",
     "text": [
      "+------+-------------------------+--------------------+------------------+---------------+-------------+------------+----------------------+-------------------------+------------+\n",
      "|userID|avg_songs_btw_hp_per_user|num_distinct_artists|num_songs_per_user|how_long_a_user|was_paid_user|gender_dummy|user_total_song_length|avg_num_songs_per_session|churned_user|\n",
      "+------+-------------------------+--------------------+------------------+---------------+-------------+------------+----------------------+-------------------------+------------+\n",
      "|100010|       22.916666666666668|                 252|               275|             65|            0|           1|     66940.89735000003|       39.285714285714285|           0|\n",
      "|200002|                    19.35|                 339|               387|             86|            1|           0|     94008.87593999993|                     64.5|           0|\n",
      "|   125|                      8.0|                   8|                 8|            122|            0|           0|    2089.1131000000005|                      8.0|           1|\n",
      "|   124|         24.4251497005988|                2232|              4079|            132|            1|           1|    1012312.0927899999|       145.67857142857142|           0|\n",
      "|    51|       29.319444444444443|                1385|              2111|             65|            1|           0|     523275.8428000004|                    211.1|           1|\n",
      "+------+-------------------------+--------------------+------------------+---------------+-------------+------------+----------------------+-------------------------+------------+\n",
      "only showing top 5 rows\n",
      "\n"
     ]
    }
   ],
   "source": [
    "modeling_df = avg_songs_btw_hp_per_user.join(num_distinct_artists,'userId')\n",
    "modeling_df = modeling_df.join(num_songs_per_user,'userId')\n",
    "modeling_df = modeling_df.join(how_long_a_user,'userId')\n",
    "modeling_df = modeling_df.join(paid_users,'userId')\n",
    "modeling_df = modeling_df.join(user_gender,'userId')\n",
    "modeling_df = modeling_df.join(user_total_song_length,'userId')\n",
    "modeling_df = modeling_df.join(avg_num_songs_per_session,'userId')\n",
    "modeling_df = modeling_df.join(churned_users,'userId')\n",
    "modeling_df.show(5)"
   ]
  },
  {
   "cell_type": "markdown",
   "metadata": {},
   "source": [
    "### To summarize all the routine in one unique cell"
   ]
  },
  {
   "cell_type": "code",
   "execution_count": 47,
   "metadata": {},
   "outputs": [],
   "source": [
    "spark = SparkSession \\\n",
    "    .builder \\\n",
    "    .appName('Sparkify') \\\n",
    "    .getOrCreate()\n",
    "\n",
    "def extract_data():\n",
    "    \"\"\"\n",
    "    Extracts the raw data necessary for modeling Churn.\n",
    "    \n",
    "    Output:\n",
    "        raw_df: a raw dataframe\n",
    "    \"\"\"\n",
    "    EVENT_DATA = 'mini_sparkify_event_data.json'\n",
    "\n",
    "    df = spark.read.json(EVENT_DATA)\n",
    "    \n",
    "    return df\n",
    "\n",
    "def transform_data(raw_df):\n",
    "    \"\"\"\n",
    "    Make all the necessary transformations in the raw data and performs\n",
    "    all the steps of the feature engineering process.\n",
    "    \n",
    "    Arguments:\n",
    "        raw_df: the raw dataframe\n",
    "    \n",
    "    Output:\n",
    "        modeling_df: the transformed dataframe\n",
    "    \"\"\"\n",
    "    \n",
    "    #Remove NaN Values\n",
    "    df_clean = raw_df.dropna(how = \"any\", subset = [\"userId\", \"sessionId\"])\n",
    "    \n",
    "    #Remove Duplicated Values\n",
    "    df_clean = df_clean.dropDuplicates()\n",
    "    \n",
    "    #Remove Empty Values\n",
    "    df_clean = df_clean.filter(df_clean.userId != \"\")\n",
    "    \n",
    "    #Adjust Timestamp to Datetime\n",
    "    get_strftime = udf(lambda x: datetime.datetime.fromtimestamp(x / 1000.0).strftime(\"%Y-%m-%d %H:%M:%S\"))\n",
    "    df_clean = df_clean.withColumn(\"time_stamp\", get_strftime(col(\"ts\")))\n",
    "    df_clean = df_clean.withColumn(\"registration_date\", get_strftime(col(\"registration\")))\n",
    "    \n",
    "    ###Feature Engineering\n",
    "    \n",
    "    ##Target (Churn)\n",
    "    churn_fcn = udf(lambda x: 1 if x=='Cancellation Confirmation' else 0)\n",
    "    churned_users = df_clean.withColumn(\"churn\", churn_fcn(col(\"page\")))\\\n",
    "                            .groupby('userId')\\\n",
    "                            .agg(F.max('churn').alias('churned_user'))\n",
    "    \n",
    "    ##Features\n",
    "    #Number of Songs Each User Listen to on Average Between Visiting the HomePage\n",
    "    function = udf(lambda ishome : int(ishome == 'Home'), IntegerType())\n",
    "    user_window = Window \\\n",
    "        .partitionBy('userID') \\\n",
    "        .orderBy(F.desc('ts')) \\\n",
    "        .rangeBetween(Window.unboundedPreceding, 0)\n",
    "\n",
    "    cusum = df_clean.filter((df_clean.page == 'NextSong') | (df_clean.page == 'Home')) \\\n",
    "        .select('userID', 'page', 'ts') \\\n",
    "        .withColumn('homevisit', function(col('page'))) \\\n",
    "        .withColumn('period', F.sum('homevisit').over(user_window))\n",
    "\n",
    "\n",
    "    num_songs_per_period = cusum.filter((cusum.page == 'NextSong')) \\\n",
    "                          .groupBy('userID', 'period') \\\n",
    "                          .agg({'period':'count'})\n",
    "\n",
    "    avg_songs_btw_hp_per_user = num_songs_per_period.groupby('userID') \\\n",
    "                                .agg(F.avg('count(period)') \\\n",
    "                                .alias('avg_songs_btw_hp_per_user'))\n",
    "    \n",
    "    #Number of Different Artists Each User Listened To\n",
    "    num_distinct_artists = df_clean.groupby('UserId') \\\n",
    "                           .agg(F.countDistinct(\"artist\") \\\n",
    "                           .alias('num_distinct_artists'))\n",
    "    \n",
    "    #Number of Songs Listened By Each User\n",
    "    num_songs_per_user = df_clean.groupby('userId') \\\n",
    "                         .agg(F.count(\"song\") \\\n",
    "                         .alias(\"num_songs_per_user\"))\n",
    "    \n",
    "    #How Long Ago a User Signed Up Compared to the Maximum Time Stamp\n",
    "    max_time_stamp = df_clean.agg(F.max(col(\"time_stamp\")))\n",
    "    max_time_stamp = max_time_stamp.collect()[0][0]\n",
    "    df_clean.createOrReplaceTempView(\"user_log_table\")\n",
    "    how_long_a_user = spark.sql('''SELECT userId,\n",
    "                                          datediff('2018-12-01 00:01:06' , registration_date) as how_long_a_user\n",
    "                                   FROM(SELECT userId,\n",
    "                                               MIN(registration_date) as registration_date\n",
    "                                        FROM user_log_table\n",
    "                                        GROUP BY 1)\n",
    "                                ''')\n",
    "    \n",
    "    #If The User was Ever a Paid User\n",
    "    free_or_paid = udf(lambda x : 1 if x == 'paid' else 0, IntegerType())\n",
    "    was_paid = udf(lambda x : 1 if x > 0 else 0, IntegerType())\n",
    "    paid_users = df_clean.select('userID', 'level') \\\n",
    "                         .withColumn('free_or_paid', free_or_paid(col('level'))) \\\n",
    "                         .groupby('userID').agg(F.sum('free_or_paid')) \\\n",
    "                         .withColumn('was_paid_user', was_paid(col('sum(free_or_paid)'))).select(['userID','was_paid_user'])\n",
    "    \n",
    "    #The user Gender\n",
    "    user_gender = spark.sql('''SELECT userId, CASE WHEN gender = 'F' THEN 1 ELSE 0 END as dummy_gender\n",
    "                           FROM(SELECT distinct userId, gender\n",
    "                                FROM user_log_table)\n",
    "                            ''')\n",
    "    \n",
    "    #Overall Time a User Listened to a Song\n",
    "    user_total_song_length = df_clean.groupby('userID').agg(F.sum(col('length')).alias('user_total_song_length'))\n",
    "    \n",
    "    #Average Number of Songs Listened Per Session by Each User\n",
    "    avg_num_songs_per_session = df_clean.filter(df_clean['page']==\"NextSong\") \\\n",
    "                                    .groupby(['userId','sessionId']).count() \\\n",
    "                                    .groupby('userId').agg(F.avg('count') \\\n",
    "                                    .alias('avg_num_songs_per_session'))\n",
    "    \n",
    "    ##Creating Modeling dataframe\n",
    "    modeling_df = avg_songs_btw_hp_per_user.join(num_distinct_artists,'userId')\n",
    "    modeling_df = modeling_df.join(num_songs_per_user,'userId')\n",
    "    modeling_df = modeling_df.join(how_long_a_user,'userId')\n",
    "    modeling_df = modeling_df.join(paid_users,'userId')\n",
    "    modeling_df = modeling_df.join(user_gender,'userId')\n",
    "    modeling_df = modeling_df.join(user_total_song_length,'userId')\n",
    "    modeling_df = modeling_df.join(avg_num_songs_per_session,'userId')\n",
    "    modeling_df = modeling_df.join(churned_users,'userId')\n",
    "    \n",
    "    modeling_df = modeling_df.drop('userId')\n",
    "    \n",
    "    return modeling_df\n",
    "\n",
    "def load_data(modeling_df, outpath):\n",
    "    \"\"\"\n",
    "    Save the transformed modeling data into a .csv file.\n",
    "    \n",
    "    Arguments:\n",
    "        modeling_df: the modeling dataframe\n",
    "        outpath: the output path with the file name\n",
    "    \"\"\"\n",
    "    modeling_df.toPandas().to_csv(outpath)\n",
    "\n",
    "def perform_etl_process(outpath):\n",
    "    \"\"\"\n",
    "    Performs the full ETL process necessary for predicting\n",
    "    churn. The final modeling dataframe will be returned and \n",
    "    also saved in a .csv file.\n",
    "    \n",
    "    Arguments:\n",
    "        outpath: the output path with the file name\n",
    "    \n",
    "    Output:\n",
    "        modeling_df: the modeling dataframe \n",
    "    \"\"\"\n",
    "    #Extract\n",
    "    raw_df = extract_data()\n",
    "    \n",
    "    #Transform\n",
    "    modeling_df = transform_data(raw_df)\n",
    "    \n",
    "    #Load\n",
    "    load_data(modeling_df,'modeling_df.csv')\n",
    "    \n",
    "    return modeling_df\n",
    "\n",
    "\n",
    "modeling_df = perform_etl_process('modeling_df.csv')"
   ]
  },
  {
   "cell_type": "code",
   "execution_count": 48,
   "metadata": {},
   "outputs": [
    {
     "name": "stdout",
     "output_type": "stream",
     "text": [
      "root\n",
      " |-- avg_songs_btw_hp_per_user: double (nullable = true)\n",
      " |-- num_distinct_artists: long (nullable = false)\n",
      " |-- num_songs_per_user: long (nullable = false)\n",
      " |-- how_long_a_user: integer (nullable = true)\n",
      " |-- was_paid_user: integer (nullable = true)\n",
      " |-- dummy_gender: integer (nullable = false)\n",
      " |-- user_total_song_length: double (nullable = true)\n",
      " |-- avg_num_songs_per_session: double (nullable = true)\n",
      " |-- churned_user: string (nullable = true)\n",
      "\n"
     ]
    }
   ],
   "source": [
    "modeling_df.printSchema()"
   ]
  },
  {
   "cell_type": "markdown",
   "metadata": {},
   "source": [
    "# Modeling\n",
    "Split the full dataset into train, test, and validation sets. Test out several of the machine learning methods you learned. Evaluate the accuracy of the various models, tuning parameters as necessary. Determine your winning model based on test accuracy and report results on the validation set. Since the churned users are a fairly small subset, I suggest using F1 score as the metric to optimize."
   ]
  },
  {
   "cell_type": "code",
   "execution_count": 49,
   "metadata": {},
   "outputs": [],
   "source": [
    "rest, validation = modeling_df.randomSplit([0.9, 0.1], seed=42)\n",
    "\n",
    "assembler = VectorAssembler(inputCols=modeling_df.columns[:-1],\n",
    "                            outputCol=\"transformeFeatures\")\n",
    "scaler = StandardScaler(inputCol=\"transformeFeatures\",\n",
    "                        outputCol=\"features\")\n",
    "indexer = StringIndexer(inputCol=\"churned_user\", outputCol=\"label\")"
   ]
  },
  {
   "cell_type": "code",
   "execution_count": 50,
   "metadata": {},
   "outputs": [
    {
     "data": {
      "text/plain": [
       "[0.6668652395712447, 0.6668652395712447]"
      ]
     },
     "execution_count": 50,
     "metadata": {},
     "output_type": "execute_result"
    }
   ],
   "source": [
    "logistic_regressor = LogisticRegression(maxIter=10, regParam=0.0, elasticNetParam=0)\n",
    "\n",
    "logistic_regressor_pipeline = Pipeline(stages=[assembler, scaler, indexer, logistic_regressor])\n",
    "logistic_regressor_paramGrid = ParamGridBuilder() \\\n",
    "                              .addGrid(logistic_regressor.regParam,[0.0, 0.1]) \\\n",
    "                              .build()\n",
    "\n",
    "logistic_regressor_crossval = CrossValidator(estimator=logistic_regressor_pipeline,\n",
    "                                             estimatorParamMaps=logistic_regressor_paramGrid,\n",
    "                                             evaluator=MulticlassClassificationEvaluator(),\n",
    "                                             numFolds=3)\n",
    "logistic_regressor_clf = logistic_regressor_crossval.fit(rest)\n",
    "logistic_regressor_clf.avgMetrics"
   ]
  },
  {
   "cell_type": "code",
   "execution_count": 51,
   "metadata": {},
   "outputs": [
    {
     "data": {
      "image/png": "[encoded data removed]",
      "text/plain": [
       "<matplotlib.figure.Figure at 0x7f0a89482f98>"
      ]
     },
     "metadata": {
      "needs_background": "light"
     },
     "output_type": "display_data"
    },
    {
     "name": "stdout",
     "output_type": "stream",
     "text": [
      "Area Under ROC Curve: 0.6147774327122147\n"
     ]
    }
   ],
   "source": [
    "trainingSummary = logistic_regressor_clf.bestModel.stages[3].summary\n",
    "roc = trainingSummary.roc.toPandas()\n",
    "plt.plot(roc['FPR'],roc['TPR'])\n",
    "plt.ylabel('False Positive Rate')\n",
    "plt.xlabel('True Positive Rate')\n",
    "plt.title('ROC Curve')\n",
    "plt.show()\n",
    "print('Area Under ROC Curve: ' + str(trainingSummary.areaUnderROC))"
   ]
  },
  {
   "cell_type": "code",
   "execution_count": 52,
   "metadata": {},
   "outputs": [
    {
     "name": "stdout",
     "output_type": "stream",
     "text": [
      "Accuracy: 0.75\n",
      "F1 Score:0.6428571428571428\n"
     ]
    }
   ],
   "source": [
    "evaluator = MulticlassClassificationEvaluator()\n",
    "predictions = logistic_regressor_clf.transform(validation)\n",
    "print(\"Accuracy: {}\".format(evaluator.evaluate(predictions, {evaluator.metricName: \"accuracy\"})))\n",
    "print(\"F1 Score:{}\".format(evaluator.evaluate(predictions, {evaluator.metricName: \"f1\"})))"
   ]
  },
  {
   "cell_type": "markdown",
   "metadata": {},
   "source": [
    "### RandomForest Cls"
   ]
  },
  {
   "cell_type": "code",
   "execution_count": 53,
   "metadata": {},
   "outputs": [
    {
     "name": "stdout",
     "output_type": "stream",
     "text": [
      "Accuracy: 0.75\n",
      "F1 Score:0.6428571428571428\n"
     ]
    }
   ],
   "source": [
    "random_forest = RandomForestClassifier(numTrees=10, \n",
    "                                       impurity=\"gini\")\n",
    "\n",
    "random_forest_pipeline = Pipeline(stages=[assembler, scaler, indexer, random_forest])\n",
    "\n",
    "random_forest_paramGrid = ParamGridBuilder() \\\n",
    "                          .addGrid(random_forest.maxDepth,[5, 20]) \\\n",
    "                          .build()\n",
    "\n",
    "random_forest_crossval = CrossValidator(estimator=random_forest_pipeline,\n",
    "                                        estimatorParamMaps=random_forest_paramGrid,\n",
    "                                        evaluator=MulticlassClassificationEvaluator(),\n",
    "                                        numFolds=3)\n",
    "\n",
    "random_forest_clf = random_forest_crossval.fit(rest)\n",
    "\n",
    "random_forest_clf.avgMetrics\n",
    "\n",
    "\n",
    "evaluator = MulticlassClassificationEvaluator()\n",
    "predictions = random_forest_clf.transform(validation)\n",
    "print(\"Accuracy: {}\".format(evaluator.evaluate(predictions, {evaluator.metricName: \"accuracy\"})))\n",
    "print(\"F1 Score:{}\".format(evaluator.evaluate(predictions, {evaluator.metricName: \"f1\"})))"
   ]
  },
  {
   "cell_type": "markdown",
   "metadata": {},
   "source": [
    "### Conclusions\n",
    "The first interesting conclusion is that following the directions of a typical CRISP-DM approach allowed an organized and well structered project. I first started the project with some business questions in mind: can we predict churn? What usefull information do I have available that could be usefull in this task? Then, an Explanatory Data Analysis guided the project into usefull insights that was essential for feature engineering.\n",
    "The process of creating features was then guided by a ETL process, where data was first extracted from a json file and then all the necessary transformations were applied. The ETL process was summarized into a function and the resulting modeling database was loaded into a csv file.\n",
    "Machine learning techniques were applied in order to predict churn and satisfactory results were obtained.\n",
    "As a important conclusion, one should notice that more precise results could easily been obtained through a more intense search for parameters in the used models. However, that would require lot more computational power, which also means costs!¶"
   ]
  },
  {
   "cell_type": "code",
   "execution_count": null,
   "metadata": {},
   "outputs": [],
   "source": []
  },
  {
   "cell_type": "code",
   "execution_count": null,
   "metadata": {},
   "outputs": [],
   "source": []
  },
  {
   "cell_type": "code",
   "execution_count": null,
   "metadata": {},
   "outputs": [],
   "source": []
  },
  {
   "cell_type": "code",
   "execution_count": null,
   "metadata": {},
   "outputs": [],
   "source": []
  },
  {
   "cell_type": "markdown",
   "metadata": {},
   "source": [
    "# Final Steps\n",
    "Clean up your code, adding comments and renaming variables to make the code easier to read and maintain. Refer to the Spark Project Overview page and Data Scientist Capstone Project Rubric to make sure you are including all components of the capstone project and meet all expectations. Remember, this includes thorough documentation in a README file in a Github repository, as well as a web app or blog post."
   ]
  },
  {
   "cell_type": "code",
   "execution_count": null,
   "metadata": {},
   "outputs": [],
   "source": []
  }
 ],
 "metadata": {
  "kernelspec": {
   "display_name": "Python 3",
   "language": "python",
   "name": "python3"
  },
  "language_info": {
   "codemirror_mode": {
    "name": "ipython",
    "version": 3
   },
   "file_extension": ".py",
   "mimetype": "text/x-python",
   "name": "python",
   "nbconvert_exporter": "python",
   "pygments_lexer": "ipython3",
   "version": "3.6.3"
  }
 },
 "nbformat": 4,
 "nbformat_minor": 2
}
